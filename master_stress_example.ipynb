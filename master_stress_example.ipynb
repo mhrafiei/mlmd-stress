{
  "nbformat": 4,
  "nbformat_minor": 0,
  "metadata": {
    "colab": {
      "name": "master_stress_example.ipynb",
      "provenance": [],
      "collapsed_sections": []
    },
    "kernelspec": {
      "name": "python3",
      "display_name": "Python 3"
    },
    "accelerator": "GPU"
  },
  "cells": [
    {
      "cell_type": "code",
      "metadata": {
        "id": "B1xoZQztKMbM",
        "colab_type": "code",
        "colab": {
          "base_uri": "https://localhost:8080/",
          "height": 123
        },
        "outputId": "a3a326ca-502f-4918-f34b-7c7a94b23993"
      },
      "source": [
        "!git config --global --unset http.proxy\n",
        "!git config --global --unset https.proxy\n",
        "!git config --global user.email \"mrafiei1@jhu.edu\"\n",
        "!git config --global user.name \"mrafiei1\"\n",
        "!git clone https://github.com/mhrafiei/mlmd-stress.git"
      ],
      "execution_count": 11,
      "outputs": [
        {
          "output_type": "stream",
          "text": [
            "Cloning into 'mlmd-stress'...\n",
            "remote: Enumerating objects: 18, done.\u001b[K\n",
            "remote: Counting objects: 100% (18/18), done.\u001b[K\n",
            "remote: Compressing objects: 100% (18/18), done.\u001b[K\n",
            "remote: Total 18 (delta 7), reused 0 (delta 0), pack-reused 0\u001b[K\n",
            "Unpacking objects: 100% (18/18), done.\n"
          ],
          "name": "stdout"
        }
      ]
    },
    {
      "cell_type": "code",
      "metadata": {
        "id": "RzjeqXBXKt_o",
        "colab_type": "code",
        "colab": {
          "base_uri": "https://localhost:8080/",
          "height": 34
        },
        "outputId": "739f59e7-0d84-45a3-8def-c0ad47b33420"
      },
      "source": [
        "cd mlmd-stress/"
      ],
      "execution_count": 12,
      "outputs": [
        {
          "output_type": "stream",
          "text": [
            "/content/mlmd-stress/mlmd-stress/mlmd-stress\n"
          ],
          "name": "stdout"
        }
      ]
    },
    {
      "cell_type": "code",
      "metadata": {
        "id": "XnuNmE-zI2eN",
        "colab_type": "code",
        "colab": {}
      },
      "source": [
        "from pclass_mlmd import MLMD\n",
        "import numpy as np"
      ],
      "execution_count": 13,
      "outputs": []
    },
    {
      "cell_type": "code",
      "metadata": {
        "id": "q6Vz-y0pIn8T",
        "colab_type": "code",
        "colab": {
          "base_uri": "https://localhost:8080/",
          "height": 1000
        },
        "outputId": "0a2e294f-9aaa-4745-c5d5-79018a51f813"
      },
      "source": [
        "# create data repository\n",
        "!python master_data_stress.py\n",
        "\n",
        "# train and test ml model\n",
        "!python master_mlmd_stress.py"
      ],
      "execution_count": null,
      "outputs": [
        {
          "output_type": "stream",
          "text": [
            "$ Stress data repository has been created and saved in the directory | Data is unique $\n",
            "$ Proceed to training-testing $\n",
            "Using TensorFlow backend.\n",
            "2020-07-02 20:39:02.422345: I tensorflow/stream_executor/platform/default/dso_loader.cc:44] Successfully opened dynamic library libcudart.so.10.1\n",
            "2020-07-02 20:39:04.331567: I tensorflow/stream_executor/platform/default/dso_loader.cc:44] Successfully opened dynamic library libcuda.so.1\n",
            "2020-07-02 20:39:04.383231: I tensorflow/stream_executor/cuda/cuda_gpu_executor.cc:981] successful NUMA node read from SysFS had negative value (-1), but there must be at least one NUMA node, so returning NUMA node zero\n",
            "2020-07-02 20:39:04.383878: I tensorflow/core/common_runtime/gpu/gpu_device.cc:1561] Found device 0 with properties: \n",
            "pciBusID: 0000:00:04.0 name: Tesla P100-PCIE-16GB computeCapability: 6.0\n",
            "coreClock: 1.3285GHz coreCount: 56 deviceMemorySize: 15.90GiB deviceMemoryBandwidth: 681.88GiB/s\n",
            "2020-07-02 20:39:04.383941: I tensorflow/stream_executor/platform/default/dso_loader.cc:44] Successfully opened dynamic library libcudart.so.10.1\n",
            "2020-07-02 20:39:04.621885: I tensorflow/stream_executor/platform/default/dso_loader.cc:44] Successfully opened dynamic library libcublas.so.10\n",
            "2020-07-02 20:39:04.750580: I tensorflow/stream_executor/platform/default/dso_loader.cc:44] Successfully opened dynamic library libcufft.so.10\n",
            "2020-07-02 20:39:04.771968: I tensorflow/stream_executor/platform/default/dso_loader.cc:44] Successfully opened dynamic library libcurand.so.10\n",
            "2020-07-02 20:39:05.061786: I tensorflow/stream_executor/platform/default/dso_loader.cc:44] Successfully opened dynamic library libcusolver.so.10\n",
            "2020-07-02 20:39:05.090068: I tensorflow/stream_executor/platform/default/dso_loader.cc:44] Successfully opened dynamic library libcusparse.so.10\n",
            "2020-07-02 20:39:05.581671: I tensorflow/stream_executor/platform/default/dso_loader.cc:44] Successfully opened dynamic library libcudnn.so.7\n",
            "2020-07-02 20:39:05.581992: I tensorflow/stream_executor/cuda/cuda_gpu_executor.cc:981] successful NUMA node read from SysFS had negative value (-1), but there must be at least one NUMA node, so returning NUMA node zero\n",
            "2020-07-02 20:39:05.582811: I tensorflow/stream_executor/cuda/cuda_gpu_executor.cc:981] successful NUMA node read from SysFS had negative value (-1), but there must be at least one NUMA node, so returning NUMA node zero\n",
            "2020-07-02 20:39:05.583670: I tensorflow/core/common_runtime/gpu/gpu_device.cc:1703] Adding visible gpu devices: 0\n",
            "2020-07-02 20:39:05.584112: I tensorflow/core/platform/cpu_feature_guard.cc:143] Your CPU supports instructions that this TensorFlow binary was not compiled to use: AVX512F\n",
            "2020-07-02 20:39:05.617942: I tensorflow/core/platform/profile_utils/cpu_utils.cc:102] CPU Frequency: 2000165000 Hz\n",
            "2020-07-02 20:39:05.618360: I tensorflow/compiler/xla/service/service.cc:168] XLA service 0x20ecbc0 initialized for platform Host (this does not guarantee that XLA will be used). Devices:\n",
            "2020-07-02 20:39:05.618398: I tensorflow/compiler/xla/service/service.cc:176]   StreamExecutor device (0): Host, Default Version\n",
            "2020-07-02 20:39:05.763203: I tensorflow/stream_executor/cuda/cuda_gpu_executor.cc:981] successful NUMA node read from SysFS had negative value (-1), but there must be at least one NUMA node, so returning NUMA node zero\n",
            "2020-07-02 20:39:05.763873: I tensorflow/compiler/xla/service/service.cc:168] XLA service 0x20ecd80 initialized for platform CUDA (this does not guarantee that XLA will be used). Devices:\n",
            "2020-07-02 20:39:05.763903: I tensorflow/compiler/xla/service/service.cc:176]   StreamExecutor device (0): Tesla P100-PCIE-16GB, Compute Capability 6.0\n",
            "2020-07-02 20:39:05.765569: I tensorflow/stream_executor/cuda/cuda_gpu_executor.cc:981] successful NUMA node read from SysFS had negative value (-1), but there must be at least one NUMA node, so returning NUMA node zero\n",
            "2020-07-02 20:39:05.766141: I tensorflow/core/common_runtime/gpu/gpu_device.cc:1561] Found device 0 with properties: \n",
            "pciBusID: 0000:00:04.0 name: Tesla P100-PCIE-16GB computeCapability: 6.0\n",
            "coreClock: 1.3285GHz coreCount: 56 deviceMemorySize: 15.90GiB deviceMemoryBandwidth: 681.88GiB/s\n",
            "2020-07-02 20:39:05.766197: I tensorflow/stream_executor/platform/default/dso_loader.cc:44] Successfully opened dynamic library libcudart.so.10.1\n",
            "2020-07-02 20:39:05.766229: I tensorflow/stream_executor/platform/default/dso_loader.cc:44] Successfully opened dynamic library libcublas.so.10\n",
            "2020-07-02 20:39:05.766251: I tensorflow/stream_executor/platform/default/dso_loader.cc:44] Successfully opened dynamic library libcufft.so.10\n",
            "2020-07-02 20:39:05.766270: I tensorflow/stream_executor/platform/default/dso_loader.cc:44] Successfully opened dynamic library libcurand.so.10\n",
            "2020-07-02 20:39:05.766292: I tensorflow/stream_executor/platform/default/dso_loader.cc:44] Successfully opened dynamic library libcusolver.so.10\n",
            "2020-07-02 20:39:05.766309: I tensorflow/stream_executor/platform/default/dso_loader.cc:44] Successfully opened dynamic library libcusparse.so.10\n",
            "2020-07-02 20:39:05.766328: I tensorflow/stream_executor/platform/default/dso_loader.cc:44] Successfully opened dynamic library libcudnn.so.7\n",
            "2020-07-02 20:39:05.766394: I tensorflow/stream_executor/cuda/cuda_gpu_executor.cc:981] successful NUMA node read from SysFS had negative value (-1), but there must be at least one NUMA node, so returning NUMA node zero\n",
            "2020-07-02 20:39:05.766947: I tensorflow/stream_executor/cuda/cuda_gpu_executor.cc:981] successful NUMA node read from SysFS had negative value (-1), but there must be at least one NUMA node, so returning NUMA node zero\n",
            "2020-07-02 20:39:05.767433: I tensorflow/core/common_runtime/gpu/gpu_device.cc:1703] Adding visible gpu devices: 0\n",
            "2020-07-02 20:39:05.774697: I tensorflow/stream_executor/platform/default/dso_loader.cc:44] Successfully opened dynamic library libcudart.so.10.1\n",
            "2020-07-02 20:39:12.141017: I tensorflow/core/common_runtime/gpu/gpu_device.cc:1102] Device interconnect StreamExecutor with strength 1 edge matrix:\n",
            "2020-07-02 20:39:12.141074: I tensorflow/core/common_runtime/gpu/gpu_device.cc:1108]      0 \n",
            "2020-07-02 20:39:12.141088: I tensorflow/core/common_runtime/gpu/gpu_device.cc:1121] 0:   N \n",
            "2020-07-02 20:39:12.145713: I tensorflow/stream_executor/cuda/cuda_gpu_executor.cc:981] successful NUMA node read from SysFS had negative value (-1), but there must be at least one NUMA node, so returning NUMA node zero\n",
            "2020-07-02 20:39:12.146437: I tensorflow/stream_executor/cuda/cuda_gpu_executor.cc:981] successful NUMA node read from SysFS had negative value (-1), but there must be at least one NUMA node, so returning NUMA node zero\n",
            "2020-07-02 20:39:12.147025: W tensorflow/core/common_runtime/gpu/gpu_bfc_allocator.cc:39] Overriding allow_growth setting because the TF_FORCE_GPU_ALLOW_GROWTH environment variable is set. Original config value was 0.\n",
            "2020-07-02 20:39:12.147087: I tensorflow/core/common_runtime/gpu/gpu_device.cc:1247] Created TensorFlow device (/job:localhost/replica:0/task:0/device:GPU:0 with 14974 MB memory) -> physical GPU (device: 0, name: Tesla P100-PCIE-16GB, pci bus id: 0000:00:04.0, compute capability: 6.0)\n",
            "Train on 2012007 samples, validate on 20324 samples\n",
            "Epoch 1/250\n",
            "2020-07-02 20:39:13.213859: I tensorflow/stream_executor/platform/default/dso_loader.cc:44] Successfully opened dynamic library libcublas.so.10\n",
            "2012007/2012007 [==============================] - 14s 7us/step - loss: 0.0120 - val_loss: 0.0015\n",
            "Epoch 2/250\n",
            "2012007/2012007 [==============================] - 12s 6us/step - loss: 0.0011 - val_loss: 8.5582e-04\n",
            "Epoch 3/250\n",
            "2012007/2012007 [==============================] - 12s 6us/step - loss: 6.5485e-04 - val_loss: 4.9268e-04\n",
            "Epoch 4/250\n",
            " 188416/2012007 [=>............................] - ETA: 11s - loss: 5.5406e-04"
          ],
          "name": "stdout"
        }
      ]
    },
    {
      "cell_type": "code",
      "metadata": {
        "id": "AuqQ0aOxI9jj",
        "colab_type": "code",
        "colab": {}
      },
      "source": [
        "# stress example\n",
        "\n",
        "alpha_local_j = np.ones((10,1)) * np.pi/4 *np.random.rand(10,1)\n",
        "radia_local_j = np.ones((10,1)) * 3e-9 \n",
        "theta_i       = np.ones((10,1)) * 0 \n",
        "dataes_raw    = MLMD.fun_mlmd_stress(alpha_local_j, radia_local_j, theta_i)\n",
        "dataou_raw    = np.concatenate((MLMD.fun_sgxx(alpha_local_j, radia_local_j, theta_i), \n",
        "                                MLMD.fun_sgyy(alpha_local_j, radia_local_j, theta_i), \n",
        "                                MLMD.fun_sgxy(alpha_local_j, radia_local_j, theta_i)), axis = 1)\n",
        "\n",
        "print(\"$$ Order is sigma_xx, sigma_yy, and sigma_xy $$\")\n",
        "print(\"   \")\n",
        "for i0 in range(dataou_raw.shape[0]):\n",
        "  print('real = {} | estmation = {} | error = {}'.format(dataou_raw[i0], dataes_raw[i0] , np.abs(dataou_raw[i0] - dataes_raw[i0])))\n"
      ],
      "execution_count": null,
      "outputs": []
    }
  ]
}