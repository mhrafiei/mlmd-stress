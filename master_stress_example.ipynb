{
  "nbformat": 4,
  "nbformat_minor": 0,
  "metadata": {
    "colab": {
      "name": "master_stress_example.ipynb",
      "provenance": [],
      "collapsed_sections": []
    },
    "kernelspec": {
      "name": "python3",
      "display_name": "Python 3"
    }
  },
  "cells": [
    {
      "cell_type": "code",
      "metadata": {
        "id": "B1xoZQztKMbM",
        "colab_type": "code",
        "colab": {}
      },
      "source": [
        "!git config --global --unset http.proxy\n",
        "!git config --global --unset https.proxy\n",
        "!git config --global user.email \"mrafiei1@jhu.edu\"\n",
        "!git config --global user.name \"mrafiei1\"\n",
        "!git clone https://github.com/mhrafiei/mlmd-stress.git"
      ],
      "execution_count": null,
      "outputs": []
    },
    {
      "cell_type": "code",
      "metadata": {
        "id": "RzjeqXBXKt_o",
        "colab_type": "code",
        "colab": {}
      },
      "source": [
        "cd mlmd-stress/"
      ],
      "execution_count": null,
      "outputs": []
    },
    {
      "cell_type": "code",
      "metadata": {
        "id": "XnuNmE-zI2eN",
        "colab_type": "code",
        "colab": {}
      },
      "source": [
        "from pclass_mlmd import MLMD\n",
        "import numpy as np"
      ],
      "execution_count": null,
      "outputs": []
    },
    {
      "cell_type": "code",
      "metadata": {
        "id": "q6Vz-y0pIn8T",
        "colab_type": "code",
        "colab": {}
      },
      "source": [
        "# create data repository\n",
        "!master_data_stress.py\n",
        "\n",
        "# train and test ml model\n",
        "!master_mlmd_stress.py"
      ],
      "execution_count": null,
      "outputs": []
    },
    {
      "cell_type": "code",
      "metadata": {
        "id": "AuqQ0aOxI9jj",
        "colab_type": "code",
        "colab": {}
      },
      "source": [
        "# stress example\n",
        "\n",
        "alpha_local_j = np.ones((10,1)) * np.pi/4 *np.random.rand(10,1)\n",
        "radia_local_j = np.ones((10,1)) * 3e-9 \n",
        "theta_i       = np.ones((10,1)) * 0 \n",
        "dataes_raw    = MLMD.fun_mlmd_stress(alpha_local_j, radia_local_j, theta_i)\n",
        "dataou_raw    = np.concatenate((MLMD.fun_sgxx(alpha_local_j, radia_local_j, theta_i), \n",
        "                                MLMD.fun_sgyy(alpha_local_j, radia_local_j, theta_i), \n",
        "                                MLMD.fun_sgxy(alpha_local_j, radia_local_j, theta_i)), axis = 1)\n",
        "\n",
        "print(\"$$ Order is sigma_xx, sigma_yy, and sigma_xy $$\")\n",
        "print(\"   \")\n",
        "for i0 in range(dataou_raw.shape[0]):\n",
        "  print('real = {} | estmation = {} | error = {}'.format(dataou_raw[i0], dataes_raw[i0] , np.abs(dataou_raw[i0] - dataes_raw[i0])))\n"
      ],
      "execution_count": null,
      "outputs": []
    }
  ]
}