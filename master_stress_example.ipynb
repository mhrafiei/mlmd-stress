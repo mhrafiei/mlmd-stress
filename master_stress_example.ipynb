{
  "nbformat": 4,
  "nbformat_minor": 0,
  "metadata": {
    "colab": {
      "name": "master_stress_example.ipynb",
      "provenance": [],
      "collapsed_sections": []
    },
    "kernelspec": {
      "name": "python3",
      "display_name": "Python 3"
    },
    "accelerator": "GPU"
  },
  "cells": [
    {
      "cell_type": "code",
      "metadata": {
        "id": "B1xoZQztKMbM",
        "colab_type": "code",
        "colab": {
          "base_uri": "https://localhost:8080/",
          "height": 115
        },
        "outputId": "a3a326ca-502f-4918-f34b-7c7a94b23993"
      },
      "source": [
        "!git config --global --unset http.proxy\n",
        "!git config --global --unset https.proxy\n",
        "!git config --global user.email \"mrafiei1@jhu.edu\"\n",
        "!git config --global user.name \"mrafiei1\"\n",
        "!git clone https://github.com/mhrafiei/mlmd-stress.git"
      ],
      "execution_count": 11,
      "outputs": [
        {
          "output_type": "stream",
          "text": [
            "Cloning into 'mlmd-stress'...\n",
            "remote: Enumerating objects: 18, done.\u001b[K\n",
            "remote: Counting objects: 100% (18/18), done.\u001b[K\n",
            "remote: Compressing objects: 100% (18/18), done.\u001b[K\n",
            "remote: Total 18 (delta 7), reused 0 (delta 0), pack-reused 0\u001b[K\n",
            "Unpacking objects: 100% (18/18), done.\n"
          ],
          "name": "stdout"
        }
      ]
    },
    {
      "cell_type": "code",
      "metadata": {
        "id": "RzjeqXBXKt_o",
        "colab_type": "code",
        "colab": {
          "base_uri": "https://localhost:8080/",
          "height": 33
        },
        "outputId": "739f59e7-0d84-45a3-8def-c0ad47b33420"
      },
      "source": [
        "cd mlmd-stress/"
      ],
      "execution_count": 12,
      "outputs": [
        {
          "output_type": "stream",
          "text": [
            "/content/mlmd-stress/mlmd-stress/mlmd-stress\n"
          ],
          "name": "stdout"
        }
      ]
    },
    {
      "cell_type": "code",
      "metadata": {
        "id": "XnuNmE-zI2eN",
        "colab_type": "code",
        "colab": {}
      },
      "source": [
        "from pclass_mlmd import MLMD\n",
        "import numpy as np"
      ],
      "execution_count": 13,
      "outputs": []
    },
    {
      "cell_type": "code",
      "metadata": {
        "id": "q6Vz-y0pIn8T",
        "colab_type": "code",
        "colab": {
          "base_uri": "https://localhost:8080/",
          "height": 1000
        },
        "outputId": "0a2e294f-9aaa-4745-c5d5-79018a51f813"
      },
      "source": [
        "# create data repository\n",
        "!python master_data_stress.py\n",
        "\n",
        "# train and test ml model\n",
        "!python master_mlmd_stress.py"
      ],
      "execution_count": null,
      "outputs": [
        {
          "output_type": "stream",
          "text": [
            "$ Stress data repository has been created and saved in the directory | Data is unique $\n",
            "$ Proceed to training-testing $\n",
            "Using TensorFlow backend.\n",
            "2020-07-02 20:39:02.422345: I tensorflow/stream_executor/platform/default/dso_loader.cc:44] Successfully opened dynamic library libcudart.so.10.1\n",
            "2020-07-02 20:39:04.331567: I tensorflow/stream_executor/platform/default/dso_loader.cc:44] Successfully opened dynamic library libcuda.so.1\n",
            "2020-07-02 20:39:04.383231: I tensorflow/stream_executor/cuda/cuda_gpu_executor.cc:981] successful NUMA node read from SysFS had negative value (-1), but there must be at least one NUMA node, so returning NUMA node zero\n",
            "2020-07-02 20:39:04.383878: I tensorflow/core/common_runtime/gpu/gpu_device.cc:1561] Found device 0 with properties: \n",
            "pciBusID: 0000:00:04.0 name: Tesla P100-PCIE-16GB computeCapability: 6.0\n",
            "coreClock: 1.3285GHz coreCount: 56 deviceMemorySize: 15.90GiB deviceMemoryBandwidth: 681.88GiB/s\n",
            "2020-07-02 20:39:04.383941: I tensorflow/stream_executor/platform/default/dso_loader.cc:44] Successfully opened dynamic library libcudart.so.10.1\n",
            "2020-07-02 20:39:04.621885: I tensorflow/stream_executor/platform/default/dso_loader.cc:44] Successfully opened dynamic library libcublas.so.10\n",
            "2020-07-02 20:39:04.750580: I tensorflow/stream_executor/platform/default/dso_loader.cc:44] Successfully opened dynamic library libcufft.so.10\n",
            "2020-07-02 20:39:04.771968: I tensorflow/stream_executor/platform/default/dso_loader.cc:44] Successfully opened dynamic library libcurand.so.10\n",
            "2020-07-02 20:39:05.061786: I tensorflow/stream_executor/platform/default/dso_loader.cc:44] Successfully opened dynamic library libcusolver.so.10\n",
            "2020-07-02 20:39:05.090068: I tensorflow/stream_executor/platform/default/dso_loader.cc:44] Successfully opened dynamic library libcusparse.so.10\n",
            "2020-07-02 20:39:05.581671: I tensorflow/stream_executor/platform/default/dso_loader.cc:44] Successfully opened dynamic library libcudnn.so.7\n",
            "2020-07-02 20:39:05.581992: I tensorflow/stream_executor/cuda/cuda_gpu_executor.cc:981] successful NUMA node read from SysFS had negative value (-1), but there must be at least one NUMA node, so returning NUMA node zero\n",
            "2020-07-02 20:39:05.582811: I tensorflow/stream_executor/cuda/cuda_gpu_executor.cc:981] successful NUMA node read from SysFS had negative value (-1), but there must be at least one NUMA node, so returning NUMA node zero\n",
            "2020-07-02 20:39:05.583670: I tensorflow/core/common_runtime/gpu/gpu_device.cc:1703] Adding visible gpu devices: 0\n",
            "2020-07-02 20:39:05.584112: I tensorflow/core/platform/cpu_feature_guard.cc:143] Your CPU supports instructions that this TensorFlow binary was not compiled to use: AVX512F\n",
            "2020-07-02 20:39:05.617942: I tensorflow/core/platform/profile_utils/cpu_utils.cc:102] CPU Frequency: 2000165000 Hz\n",
            "2020-07-02 20:39:05.618360: I tensorflow/compiler/xla/service/service.cc:168] XLA service 0x20ecbc0 initialized for platform Host (this does not guarantee that XLA will be used). Devices:\n",
            "2020-07-02 20:39:05.618398: I tensorflow/compiler/xla/service/service.cc:176]   StreamExecutor device (0): Host, Default Version\n",
            "2020-07-02 20:39:05.763203: I tensorflow/stream_executor/cuda/cuda_gpu_executor.cc:981] successful NUMA node read from SysFS had negative value (-1), but there must be at least one NUMA node, so returning NUMA node zero\n",
            "2020-07-02 20:39:05.763873: I tensorflow/compiler/xla/service/service.cc:168] XLA service 0x20ecd80 initialized for platform CUDA (this does not guarantee that XLA will be used). Devices:\n",
            "2020-07-02 20:39:05.763903: I tensorflow/compiler/xla/service/service.cc:176]   StreamExecutor device (0): Tesla P100-PCIE-16GB, Compute Capability 6.0\n",
            "2020-07-02 20:39:05.765569: I tensorflow/stream_executor/cuda/cuda_gpu_executor.cc:981] successful NUMA node read from SysFS had negative value (-1), but there must be at least one NUMA node, so returning NUMA node zero\n",
            "2020-07-02 20:39:05.766141: I tensorflow/core/common_runtime/gpu/gpu_device.cc:1561] Found device 0 with properties: \n",
            "pciBusID: 0000:00:04.0 name: Tesla P100-PCIE-16GB computeCapability: 6.0\n",
            "coreClock: 1.3285GHz coreCount: 56 deviceMemorySize: 15.90GiB deviceMemoryBandwidth: 681.88GiB/s\n",
            "2020-07-02 20:39:05.766197: I tensorflow/stream_executor/platform/default/dso_loader.cc:44] Successfully opened dynamic library libcudart.so.10.1\n",
            "2020-07-02 20:39:05.766229: I tensorflow/stream_executor/platform/default/dso_loader.cc:44] Successfully opened dynamic library libcublas.so.10\n",
            "2020-07-02 20:39:05.766251: I tensorflow/stream_executor/platform/default/dso_loader.cc:44] Successfully opened dynamic library libcufft.so.10\n",
            "2020-07-02 20:39:05.766270: I tensorflow/stream_executor/platform/default/dso_loader.cc:44] Successfully opened dynamic library libcurand.so.10\n",
            "2020-07-02 20:39:05.766292: I tensorflow/stream_executor/platform/default/dso_loader.cc:44] Successfully opened dynamic library libcusolver.so.10\n",
            "2020-07-02 20:39:05.766309: I tensorflow/stream_executor/platform/default/dso_loader.cc:44] Successfully opened dynamic library libcusparse.so.10\n",
            "2020-07-02 20:39:05.766328: I tensorflow/stream_executor/platform/default/dso_loader.cc:44] Successfully opened dynamic library libcudnn.so.7\n",
            "2020-07-02 20:39:05.766394: I tensorflow/stream_executor/cuda/cuda_gpu_executor.cc:981] successful NUMA node read from SysFS had negative value (-1), but there must be at least one NUMA node, so returning NUMA node zero\n",
            "2020-07-02 20:39:05.766947: I tensorflow/stream_executor/cuda/cuda_gpu_executor.cc:981] successful NUMA node read from SysFS had negative value (-1), but there must be at least one NUMA node, so returning NUMA node zero\n",
            "2020-07-02 20:39:05.767433: I tensorflow/core/common_runtime/gpu/gpu_device.cc:1703] Adding visible gpu devices: 0\n",
            "2020-07-02 20:39:05.774697: I tensorflow/stream_executor/platform/default/dso_loader.cc:44] Successfully opened dynamic library libcudart.so.10.1\n",
            "2020-07-02 20:39:12.141017: I tensorflow/core/common_runtime/gpu/gpu_device.cc:1102] Device interconnect StreamExecutor with strength 1 edge matrix:\n",
            "2020-07-02 20:39:12.141074: I tensorflow/core/common_runtime/gpu/gpu_device.cc:1108]      0 \n",
            "2020-07-02 20:39:12.141088: I tensorflow/core/common_runtime/gpu/gpu_device.cc:1121] 0:   N \n",
            "2020-07-02 20:39:12.145713: I tensorflow/stream_executor/cuda/cuda_gpu_executor.cc:981] successful NUMA node read from SysFS had negative value (-1), but there must be at least one NUMA node, so returning NUMA node zero\n",
            "2020-07-02 20:39:12.146437: I tensorflow/stream_executor/cuda/cuda_gpu_executor.cc:981] successful NUMA node read from SysFS had negative value (-1), but there must be at least one NUMA node, so returning NUMA node zero\n",
            "2020-07-02 20:39:12.147025: W tensorflow/core/common_runtime/gpu/gpu_bfc_allocator.cc:39] Overriding allow_growth setting because the TF_FORCE_GPU_ALLOW_GROWTH environment variable is set. Original config value was 0.\n",
            "2020-07-02 20:39:12.147087: I tensorflow/core/common_runtime/gpu/gpu_device.cc:1247] Created TensorFlow device (/job:localhost/replica:0/task:0/device:GPU:0 with 14974 MB memory) -> physical GPU (device: 0, name: Tesla P100-PCIE-16GB, pci bus id: 0000:00:04.0, compute capability: 6.0)\n",
            "Train on 2012007 samples, validate on 20324 samples\n",
            "Epoch 1/250\n",
            "2020-07-02 20:39:13.213859: I tensorflow/stream_executor/platform/default/dso_loader.cc:44] Successfully opened dynamic library libcublas.so.10\n",
            "2012007/2012007 [==============================] - 14s 7us/step - loss: 0.0120 - val_loss: 0.0015\n",
            "Epoch 2/250\n",
            "2012007/2012007 [==============================] - 12s 6us/step - loss: 0.0011 - val_loss: 8.5582e-04\n",
            "Epoch 3/250\n",
            "2012007/2012007 [==============================] - 12s 6us/step - loss: 6.5485e-04 - val_loss: 4.9268e-04\n",
            "Epoch 4/250\n",
            "2012007/2012007 [==============================] - 12s 6us/step - loss: 4.9813e-04 - val_loss: 4.0756e-04\n",
            "Epoch 5/250\n",
            "2012007/2012007 [==============================] - 12s 6us/step - loss: 4.1679e-04 - val_loss: 3.6880e-04\n",
            "Epoch 6/250\n",
            "2012007/2012007 [==============================] - 12s 6us/step - loss: 3.6503e-04 - val_loss: 2.9232e-04\n",
            "Epoch 7/250\n",
            "2012007/2012007 [==============================] - 13s 6us/step - loss: 3.2811e-04 - val_loss: 2.9832e-04\n",
            "Epoch 8/250\n",
            "2012007/2012007 [==============================] - 12s 6us/step - loss: 3.0246e-04 - val_loss: 2.6777e-04\n",
            "Epoch 9/250\n",
            "2012007/2012007 [==============================] - 12s 6us/step - loss: 2.7930e-04 - val_loss: 2.5897e-04\n",
            "Epoch 10/250\n",
            "2012007/2012007 [==============================] - 12s 6us/step - loss: 2.6284e-04 - val_loss: 2.2793e-04\n",
            "Epoch 11/250\n",
            "2012007/2012007 [==============================] - 13s 6us/step - loss: 2.4528e-04 - val_loss: 2.1064e-04\n",
            "Epoch 12/250\n",
            "2012007/2012007 [==============================] - 12s 6us/step - loss: 2.3133e-04 - val_loss: 2.3275e-04\n",
            "Epoch 13/250\n",
            "2012007/2012007 [==============================] - 12s 6us/step - loss: 2.1962e-04 - val_loss: 1.8088e-04\n",
            "Epoch 14/250\n",
            "2012007/2012007 [==============================] - 12s 6us/step - loss: 2.1048e-04 - val_loss: 2.2582e-04\n",
            "Epoch 15/250\n",
            "2012007/2012007 [==============================] - 12s 6us/step - loss: 2.0060e-04 - val_loss: 1.6401e-04\n",
            "Epoch 16/250\n",
            "2012007/2012007 [==============================] - 12s 6us/step - loss: 1.9139e-04 - val_loss: 1.8921e-04\n",
            "Epoch 17/250\n",
            "2012007/2012007 [==============================] - 12s 6us/step - loss: 1.8611e-04 - val_loss: 1.6802e-04\n",
            "Epoch 18/250\n",
            "2012007/2012007 [==============================] - 12s 6us/step - loss: 1.7847e-04 - val_loss: 1.9788e-04\n",
            "Epoch 19/250\n",
            "2012007/2012007 [==============================] - 12s 6us/step - loss: 1.7176e-04 - val_loss: 1.9489e-04\n",
            "Epoch 20/250\n",
            "2012007/2012007 [==============================] - 12s 6us/step - loss: 1.6961e-04 - val_loss: 1.4781e-04\n",
            "Epoch 21/250\n",
            "2012007/2012007 [==============================] - 12s 6us/step - loss: 1.6386e-04 - val_loss: 1.5044e-04\n",
            "Epoch 22/250\n",
            "2012007/2012007 [==============================] - 12s 6us/step - loss: 1.5960e-04 - val_loss: 2.0680e-04\n",
            "Epoch 23/250\n",
            "2012007/2012007 [==============================] - 12s 6us/step - loss: 1.5702e-04 - val_loss: 1.8828e-04\n",
            "Epoch 24/250\n",
            "2012007/2012007 [==============================] - 12s 6us/step - loss: 1.5160e-04 - val_loss: 1.4439e-04\n",
            "Epoch 25/250\n",
            "2012007/2012007 [==============================] - 12s 6us/step - loss: 1.4973e-04 - val_loss: 1.3900e-04\n",
            "Epoch 26/250\n",
            "2012007/2012007 [==============================] - 12s 6us/step - loss: 1.4535e-04 - val_loss: 1.9784e-04\n",
            "Epoch 27/250\n",
            "2012007/2012007 [==============================] - 12s 6us/step - loss: 1.4326e-04 - val_loss: 1.2262e-04\n",
            "Epoch 28/250\n",
            "2012007/2012007 [==============================] - 12s 6us/step - loss: 1.3962e-04 - val_loss: 1.5309e-04\n",
            "Epoch 29/250\n",
            "2012007/2012007 [==============================] - 12s 6us/step - loss: 1.3780e-04 - val_loss: 1.5063e-04\n",
            "Epoch 30/250\n",
            "2012007/2012007 [==============================] - 12s 6us/step - loss: 1.3545e-04 - val_loss: 1.3182e-04\n",
            "Epoch 31/250\n",
            "2012007/2012007 [==============================] - 12s 6us/step - loss: 1.3105e-04 - val_loss: 1.5688e-04\n",
            "Epoch 32/250\n",
            "2012007/2012007 [==============================] - 13s 6us/step - loss: 1.2908e-04 - val_loss: 1.2064e-04\n",
            "Epoch 33/250\n",
            "2012007/2012007 [==============================] - 12s 6us/step - loss: 1.2763e-04 - val_loss: 1.0751e-04\n",
            "Epoch 34/250\n",
            "2012007/2012007 [==============================] - 12s 6us/step - loss: 1.2624e-04 - val_loss: 1.2582e-04\n",
            "Epoch 35/250\n",
            "2012007/2012007 [==============================] - 12s 6us/step - loss: 1.2425e-04 - val_loss: 1.1246e-04\n",
            "Epoch 36/250\n",
            "2012007/2012007 [==============================] - 13s 6us/step - loss: 1.2102e-04 - val_loss: 1.1635e-04\n",
            "Epoch 37/250\n",
            "2012007/2012007 [==============================] - 12s 6us/step - loss: 1.1994e-04 - val_loss: 1.1988e-04\n",
            "Epoch 38/250\n",
            "2012007/2012007 [==============================] - 12s 6us/step - loss: 1.1676e-04 - val_loss: 1.4584e-04\n",
            "Epoch 39/250\n",
            "2012007/2012007 [==============================] - 12s 6us/step - loss: 1.1596e-04 - val_loss: 9.5349e-05\n",
            "Epoch 40/250\n",
            "2012007/2012007 [==============================] - 12s 6us/step - loss: 1.1427e-04 - val_loss: 9.9646e-05\n",
            "Epoch 41/250\n",
            "2012007/2012007 [==============================] - 12s 6us/step - loss: 1.1326e-04 - val_loss: 1.2617e-04\n",
            "Epoch 42/250\n",
            "2012007/2012007 [==============================] - 12s 6us/step - loss: 1.0995e-04 - val_loss: 1.3232e-04\n",
            "Epoch 43/250\n",
            "2012007/2012007 [==============================] - 12s 6us/step - loss: 1.1032e-04 - val_loss: 1.0544e-04\n",
            "Epoch 44/250\n",
            "2012007/2012007 [==============================] - 12s 6us/step - loss: 1.0795e-04 - val_loss: 1.0559e-04\n",
            "Epoch 45/250\n",
            "1289728/2012007 [==================>...........] - ETA: 4s - loss: 1.0653e-04"
          ],
          "name": "stdout"
        }
      ]
    },
    {
      "cell_type": "code",
      "metadata": {
        "id": "AuqQ0aOxI9jj",
        "colab_type": "code",
        "colab": {}
      },
      "source": [
        "# stress example\n",
        "\n",
        "alpha_local_j = np.ones((10,1)) * np.pi/4 *np.random.rand(10,1)\n",
        "radia_local_j = np.ones((10,1)) * 3e-9 \n",
        "theta_i       = np.ones((10,1)) * 0 \n",
        "dataes_raw    = MLMD.fun_mlmd_stress(alpha_local_j, radia_local_j, theta_i)\n",
        "dataou_raw    = np.concatenate((MLMD.fun_sgxx(alpha_local_j, radia_local_j, theta_i), \n",
        "                                MLMD.fun_sgyy(alpha_local_j, radia_local_j, theta_i), \n",
        "                                MLMD.fun_sgxy(alpha_local_j, radia_local_j, theta_i)), axis = 1)\n",
        "\n",
        "print(\"$$ Order is sigma_xx, sigma_yy, and sigma_xy $$\")\n",
        "print(\"   \")\n",
        "for i0 in range(dataou_raw.shape[0]):\n",
        "  print('real = {} | estmation = {} | error = {}'.format(dataou_raw[i0], dataes_raw[i0] , np.abs(dataou_raw[i0] - dataes_raw[i0])))\n"
      ],
      "execution_count": null,
      "outputs": []
    }
  ]
}